{
 "cells": [
  {
   "cell_type": "markdown",
   "metadata": {},
   "source": [
    "# Working With Numbers"
   ]
  },
  {
   "cell_type": "markdown",
   "metadata": {},
   "source": [
    "Here we will work with numbers, functions and usage."
   ]
  },
  {
   "cell_type": "code",
   "execution_count": 15,
   "metadata": {},
   "outputs": [],
   "source": [
    "# Integer\n",
    "x = 10\n",
    "\n",
    "# Floating-point number\n",
    "y = 3.14\n",
    "\n",
    "# Complex number\n",
    "z = 2 + 3j"
   ]
  },
  {
   "cell_type": "code",
   "execution_count": 10,
   "metadata": {},
   "outputs": [
    {
     "name": "stdout",
     "output_type": "stream",
     "text": [
      "7\n",
      "5\n",
      "30\n",
      "5.0\n"
     ]
    }
   ],
   "source": [
    "# Basic math operations\n",
    "\n",
    "# Addition\n",
    "result_add = 3 + 4\n",
    "print(result_add)\n",
    "\n",
    "# Subtraction\n",
    "result_sub = 7 - 2\n",
    "print(result_sub)\n",
    "\n",
    "# Multiplication\n",
    "result_mul = 5 * 6\n",
    "print(result_mul)\n",
    "\n",
    "# Division\n",
    "result_div = 10 / 2  \n",
    "print(result_div)\n",
    "# this returns a float"
   ]
  },
  {
   "cell_type": "code",
   "execution_count": 12,
   "metadata": {},
   "outputs": [
    {
     "name": "stdout",
     "output_type": "stream",
     "text": [
      "3\n",
      "1\n",
      "8\n"
     ]
    }
   ],
   "source": [
    "# Integer Division (floor division)\n",
    "result_floor_div = 10 // 3  \n",
    "print(result_floor_div)\n",
    "# Answer is 3.3333, but // returns only the integer part of the answer\n",
    "\n",
    "# Modulus (remainder)\n",
    "result_mod = 10 % 3\n",
    "print(result_mod)\n",
    "# 10 divided by 3 gives 3 with a remainder of 1\n",
    "\n",
    "# Exponentiation\n",
    "result_exp = 2 ** 3  \n",
    "print(result_exp)\n",
    "# 2 raised to the power of 3\n"
   ]
  },
  {
   "cell_type": "code",
   "execution_count": 1,
   "metadata": {},
   "outputs": [],
   "source": [
    "# set our test vars\n",
    "test_num = 4.5"
   ]
  },
  {
   "cell_type": "markdown",
   "metadata": {},
   "source": [
    "The as_integer_ratio() function in Python is a method available for instances of the float class. It returns a tuple representing the fractional value of the float as a numerator and a denominator."
   ]
  },
  {
   "cell_type": "code",
   "execution_count": 2,
   "metadata": {},
   "outputs": [
    {
     "data": {
      "text/plain": [
       "(9, 2)"
      ]
     },
     "execution_count": 2,
     "metadata": {},
     "output_type": "execute_result"
    }
   ],
   "source": [
    "test_num.as_integer_ratio()\n",
    "# Output: (9, 2)\n",
    "# 4.5 is 9/2"
   ]
  },
  {
   "cell_type": "code",
   "execution_count": 3,
   "metadata": {},
   "outputs": [
    {
     "data": {
      "text/plain": [
       "False"
      ]
     },
     "execution_count": 3,
     "metadata": {},
     "output_type": "execute_result"
    }
   ],
   "source": [
    "test_num.is_integer()\n",
    "# Output: False\n",
    "# 4.5 is not an integer, but a float"
   ]
  },
  {
   "cell_type": "code",
   "execution_count": 14,
   "metadata": {},
   "outputs": [
    {
     "data": {
      "text/plain": [
       "4"
      ]
     },
     "execution_count": 14,
     "metadata": {},
     "output_type": "execute_result"
    }
   ],
   "source": [
    "(4).numerator\n",
    "# Output: 4\n",
    "# 4 is an integer, so 4/1 (implicity converted) has a numerator of 4"
   ]
  },
  {
   "cell_type": "code",
   "execution_count": 8,
   "metadata": {},
   "outputs": [
    {
     "data": {
      "text/plain": [
       "1"
      ]
     },
     "execution_count": 8,
     "metadata": {},
     "output_type": "execute_result"
    }
   ],
   "source": [
    "(4).denominator\n",
    "# Output: 1\n",
    "# 4 is an integer, so 4/1 (implicity converted) has a denominator of 1"
   ]
  },
  {
   "cell_type": "markdown",
   "metadata": {},
   "source": [
    "The following sets the variabes to True or False depending on the logic assigned to it. \n",
    "\n",
    "For example:\n",
    "3 > 1 would return True, assigning True to the variable on the left."
   ]
  },
  {
   "cell_type": "code",
   "execution_count": 16,
   "metadata": {},
   "outputs": [
    {
     "name": "stdout",
     "output_type": "stream",
     "text": [
      "True\n",
      "False\n",
      "True\n",
      "True\n"
     ]
    }
   ],
   "source": [
    "# Greater than\n",
    "greater_than = 5 > 3\n",
    "print(greater_than)\n",
    "\n",
    "# Less than\n",
    "less_than = 5 < 3\n",
    "print(less_than)\n",
    "\n",
    "# Equal to\n",
    "equal_to = 5 == 5\n",
    "print(equal_to)\n",
    "\n",
    "# Not equal to\n",
    "not_equal_to = 5 != 3\n",
    "print(not_equal_to)\n"
   ]
  },
  {
   "cell_type": "code",
   "execution_count": 21,
   "metadata": {},
   "outputs": [
    {
     "name": "stdout",
     "output_type": "stream",
     "text": [
      "3\n",
      "5.0\n",
      "(2+0j)\n"
     ]
    }
   ],
   "source": [
    "# Converting to integer\n",
    "# This will truncate the decimal part, not round it\n",
    "int_value = int(3.5)\n",
    "print(int_value)\n",
    "\n",
    "# Converting to float\n",
    "float_value = float(5)\n",
    "print(float_value)\n",
    "\n",
    "# Converting to complex\n",
    "complex_value = complex(2)\n",
    "print(complex_value)\n"
   ]
  },
  {
   "cell_type": "code",
   "execution_count": 2,
   "metadata": {},
   "outputs": [
    {
     "name": "stdout",
     "output_type": "stream",
     "text": [
      "12,345\n",
      "12345.68\n"
     ]
    }
   ],
   "source": [
    "# Formatting numbers\n",
    "# Using the format() method\n",
    "# Syntax: format(value, format_specifier)\n",
    "\n",
    "# Format specifier for integer\n",
    "integer_value = 12345\n",
    "formatted_integer = format(integer_value, \",\")\n",
    "print(formatted_integer)\n",
    "\n",
    "# Format specifier for float setting precision to 2 decimal places\n",
    "float_value = 12345.6789\n",
    "formatted_float = format(float_value, \".2f\")\n",
    "print(formatted_float)"
   ]
  }
 ],
 "metadata": {
  "kernelspec": {
   "display_name": "Python 3",
   "language": "python",
   "name": "python3"
  },
  "language_info": {
   "codemirror_mode": {
    "name": "ipython",
    "version": 3
   },
   "file_extension": ".py",
   "mimetype": "text/x-python",
   "name": "python",
   "nbconvert_exporter": "python",
   "pygments_lexer": "ipython3",
   "version": "3.12.3"
  }
 },
 "nbformat": 4,
 "nbformat_minor": 2
}
