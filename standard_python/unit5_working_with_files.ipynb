{
 "cells": [
  {
   "cell_type": "markdown",
   "metadata": {},
   "source": [
    "# Working With Files"
   ]
  },
  {
   "cell_type": "code",
   "execution_count": 2,
   "metadata": {},
   "outputs": [
    {
     "name": "stdout",
     "output_type": "stream",
     "text": [
      "['Name', 'Age', 'City']\n",
      "['Alice', '30', 'New York']\n",
      "['Bob', '25', 'Los Angeles']\n",
      "['Charlie', '35', 'Chicago']\n"
     ]
    }
   ],
   "source": [
    "# read in a file and print out the contents\n",
    "import csv\n",
    "\n",
    "# Open the CSV file\n",
    "with open('test_file.csv', 'r') as file:\n",
    "    # Create a CSV reader object\n",
    "    csv_reader = csv.reader(file)\n",
    "\n",
    "    # Read and print each row\n",
    "    for row in csv_reader:\n",
    "        print(row)\n"
   ]
  },
  {
   "cell_type": "code",
   "execution_count": null,
   "metadata": {},
   "outputs": [],
   "source": [
    "# open the file without using the with statement\n",
    "file = open('test_file.csv', 'r')\n",
    "csv_reader = csv.reader(file)\n",
    "for row in csv_reader:\n",
    "    print(row)\n",
    "file.close()\n",
    "\n"
   ]
  }
 ],
 "metadata": {
  "kernelspec": {
   "display_name": "Python 3",
   "language": "python",
   "name": "python3"
  },
  "language_info": {
   "codemirror_mode": {
    "name": "ipython",
    "version": 3
   },
   "file_extension": ".py",
   "mimetype": "text/x-python",
   "name": "python",
   "nbconvert_exporter": "python",
   "pygments_lexer": "ipython3",
   "version": "3.12.3"
  }
 },
 "nbformat": 4,
 "nbformat_minor": 2
}
