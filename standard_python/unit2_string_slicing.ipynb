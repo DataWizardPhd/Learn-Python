{
 "cells": [
  {
   "cell_type": "markdown",
   "metadata": {},
   "source": [
    "# String Slicing"
   ]
  },
  {
   "cell_type": "markdown",
   "metadata": {},
   "source": [
    "String Slicing Examples\n",
    "\n",
    "Run each of these exercises to see the output. Play with the code to see how it works.\n",
    "\n",
    "string[start:end:step]\n",
    "\n",
    "Remember that indexes in Python start from 0. The start index is included in the slice, \n",
    "but the end index is not included."
   ]
  },
  {
   "cell_type": "code",
   "execution_count": 18,
   "metadata": {},
   "outputs": [],
   "source": [
    "# our test string\n",
    "some_str = 'abcdef'\n"
   ]
  },
  {
   "cell_type": "code",
   "execution_count": 19,
   "metadata": {},
   "outputs": [
    {
     "name": "stdout",
     "output_type": "stream",
     "text": [
      "c\n"
     ]
    }
   ],
   "source": [
    "# string at index\n",
    "string_at_i = some_str[2]\n",
    "print(string_at_i)\n",
    "# Output: c"
   ]
  },
  {
   "cell_type": "code",
   "execution_count": 20,
   "metadata": {},
   "outputs": [
    {
     "name": "stdout",
     "output_type": "stream",
     "text": [
      "e\n"
     ]
    }
   ],
   "source": [
    "# string at negative index\n",
    "string_at_i = some_str[-2]\n",
    "print(string_at_i)\n",
    "# Output: e"
   ]
  },
  {
   "cell_type": "code",
   "execution_count": 21,
   "metadata": {},
   "outputs": [
    {
     "name": "stdout",
     "output_type": "stream",
     "text": [
      "cdef\n"
     ]
    }
   ],
   "source": [
    "# string at start index\n",
    "string_at_i = some_str[2:]\n",
    "print(string_at_i)\n",
    "# Output: cdef"
   ]
  },
  {
   "cell_type": "code",
   "execution_count": 22,
   "metadata": {},
   "outputs": [
    {
     "name": "stdout",
     "output_type": "stream",
     "text": [
      "abcd\n"
     ]
    }
   ],
   "source": [
    "# string at end index\n",
    "string_at_i = some_str[:-2]\n",
    "print(string_at_i)\n",
    "# Output: abcd"
   ]
  },
  {
   "cell_type": "code",
   "execution_count": 23,
   "metadata": {},
   "outputs": [
    {
     "name": "stdout",
     "output_type": "stream",
     "text": [
      "bcd\n"
     ]
    }
   ],
   "source": [
    "# string slicing with start and end index\n",
    "string_at_i = some_str[1:4]\n",
    "print(string_at_i)\n",
    "# Output: bcd"
   ]
  },
  {
   "cell_type": "code",
   "execution_count": 24,
   "metadata": {},
   "outputs": [
    {
     "name": "stdout",
     "output_type": "stream",
     "text": [
      "abcdef\n"
     ]
    }
   ],
   "source": [
    "# string copy\n",
    "string_at_i = some_str[:]\n",
    "print(string_at_i)\n",
    "# Output: abcdef"
   ]
  },
  {
   "cell_type": "code",
   "execution_count": 25,
   "metadata": {},
   "outputs": [
    {
     "name": "stdout",
     "output_type": "stream",
     "text": [
      "ace\n"
     ]
    }
   ],
   "source": [
    "# string slicing with step\n",
    "string_at_i = some_str[::2]\n",
    "print(string_at_i)\n",
    "# Output: ace"
   ]
  },
  {
   "cell_type": "code",
   "execution_count": 26,
   "metadata": {},
   "outputs": [
    {
     "name": "stdout",
     "output_type": "stream",
     "text": [
      "fedcba\n"
     ]
    }
   ],
   "source": [
    "# string slicing with negative step\n",
    "string_at_i = some_str[::-1]\n",
    "print(string_at_i)\n",
    "# Output: fedcba"
   ]
  },
  {
   "cell_type": "code",
   "execution_count": 27,
   "metadata": {},
   "outputs": [
    {
     "name": "stdout",
     "output_type": "stream",
     "text": [
      "dc\n"
     ]
    }
   ],
   "source": [
    "# string slicing to get string starting from index 3, going back to 1, but not including 1\n",
    "string_at_i = some_str[3:1:-1]\n",
    "print(string_at_i)\n",
    "# Output: dc"
   ]
  },
  {
   "cell_type": "code",
   "execution_count": 28,
   "metadata": {},
   "outputs": [
    {
     "name": "stdout",
     "output_type": "stream",
     "text": [
      "[1, 9, 10, 11, 5, 6]\n"
     ]
    }
   ],
   "source": [
    "# slice assignment - replace a slice of a string with another string\n",
    "\n",
    "# Define a list\n",
    "my_list = [1, 2, 3, 4, 5, 6]\n",
    "\n",
    "# Define another list to replace the slice\n",
    "replacement_list = [9, 10, 11]\n",
    "\n",
    "# Replace a slice of my_list with replacement_list\n",
    "my_list[1:4] = replacement_list\n",
    "\n",
    "print(my_list)\n",
    "# Output: [1, 9, 10, 11, 5, 6]"
   ]
  }
 ],
 "metadata": {
  "kernelspec": {
   "display_name": "Python 3",
   "language": "python",
   "name": "python3"
  },
  "language_info": {
   "codemirror_mode": {
    "name": "ipython",
    "version": 3
   },
   "file_extension": ".py",
   "mimetype": "text/x-python",
   "name": "python",
   "nbconvert_exporter": "python",
   "pygments_lexer": "ipython3",
   "version": "3.12.3"
  }
 },
 "nbformat": 4,
 "nbformat_minor": 2
}
