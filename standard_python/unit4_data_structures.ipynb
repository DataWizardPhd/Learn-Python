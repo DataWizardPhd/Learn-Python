{
 "cells": [
  {
   "cell_type": "markdown",
   "metadata": {},
   "source": [
    "# Data Structures\n",
    "### Data structures are used to organize and store data in a way that allows for efficient manipulation, retrieval, and storage.This unit is strictly for Python native data structures. We'll get into third party ones, like datafames later."
   ]
  },
  {
   "cell_type": "markdown",
   "metadata": {},
   "source": [
    "## Lists"
   ]
  },
  {
   "cell_type": "code",
   "execution_count": 35,
   "metadata": {},
   "outputs": [],
   "source": [
    "# lists \n",
    "# list is a collection of items in a particular order and is defined by square brackets []\n",
    "my_list = ['apple', 'banana', 'cherry']\n",
    "\n",
    "# list can store duplicate items\n",
    "my_list = [1, 1, 1, 1, 1]\n",
    "\n",
    "# list can store heterogenous data\n",
    "my_list = [1, 'apple', 2.5]\n",
    "\n",
    "# list can store nested lists\n",
    "my_list = [1, [2, 3], 4]\n"
   ]
  },
  {
   "cell_type": "code",
   "execution_count": 36,
   "metadata": {},
   "outputs": [
    {
     "name": "stdout",
     "output_type": "stream",
     "text": [
      "['apple', 'banana', 'cherry']\n",
      "['apple', 'orange', 'cherry']\n"
     ]
    }
   ],
   "source": [
    "# list is mutable, we can change the items in the list\n",
    "my_list = ['apple', 'banana', 'cherry']\n",
    "print(my_list)  \n",
    "# Output: ['apple', 'banana', 'cherry']\n",
    "\n",
    "my_list[1] = 'orange'\n",
    "print(my_list)\n",
    "# Output: ['apple', 'orange', 'cherry']\n"
   ]
  },
  {
   "cell_type": "code",
   "execution_count": 37,
   "metadata": {},
   "outputs": [
    {
     "name": "stdout",
     "output_type": "stream",
     "text": [
      "[1, 2, 3, 'banana', 'cherry', 4]\n"
     ]
    }
   ],
   "source": [
    "my_list = [1, 2, 3, \"apple\", \"banana\", \"cherry\"]\n",
    "\n",
    "# Add an element to the end of the list\n",
    "my_list.append(4)\n",
    "\n",
    "# Remove an element\n",
    "my_list.remove(\"apple\")\n",
    "print(my_list)  \n",
    "# Output: [1, 2, 3, 'banana', 'cherry', 4]\n"
   ]
  },
  {
   "cell_type": "markdown",
   "metadata": {},
   "source": [
    "## Dictionaries"
   ]
  },
  {
   "cell_type": "code",
   "execution_count": 38,
   "metadata": {},
   "outputs": [
    {
     "name": "stdout",
     "output_type": "stream",
     "text": [
      "Jack\n",
      "{'name': 'Jack', 'age': 27}\n",
      "{'name': 'Jack', 'age': 27, 'address': 'Downtown'}\n",
      "{'name': 'Jack', 'age': 27}\n"
     ]
    }
   ],
   "source": [
    "'''\n",
    "- Dictionaries are unordered collections of key-value pairs.\n",
    "- They are mutable and can contain elements of any data type.\n",
    "- Each element in a dictionary is accessed by its key rather than by an index.\n",
    "'''\n",
    "\n",
    "# Creating a dictionary\n",
    "# key is 'name' and value is 'Jack' as key-value pair example\n",
    "my_dict = {'name': 'Jack', 'age': 26}\n",
    "\n",
    "# Accessing elements\n",
    "print(my_dict['name'])\n",
    "# Output: Jack\n",
    "\n",
    "# Changing elements\n",
    "my_dict['age'] = 27\n",
    "print(my_dict)\n",
    "# Output: {'name': 'Jack', 'age': 27}\n",
    "\n",
    "# Adding new key-value pairs\n",
    "my_dict['address'] = 'Downtown'\n",
    "print(my_dict)\n",
    "# Output: {'name': 'Jack', 'age': 27, 'address': 'Downtown'}\n",
    "\n",
    "# Removing elements\n",
    "del my_dict['address']\n",
    "print(my_dict)\n",
    "# Output: {'name': 'Jack', 'age': 27}"
   ]
  },
  {
   "cell_type": "code",
   "execution_count": 39,
   "metadata": {},
   "outputs": [
    {
     "name": "stdout",
     "output_type": "stream",
     "text": [
      "dict_keys(['name', 'age'])\n",
      "dict_values(['Jack', 27])\n",
      "dict_items([('name', 'Jack'), ('age', 27)])\n"
     ]
    }
   ],
   "source": [
    "# dictionary operations\n",
    "# Get all keys\n",
    "print(my_dict.keys())\n",
    "# Output: dict_keys(['name', 'age'])\n",
    "\n",
    "# Get all values\n",
    "print(my_dict.values())\n",
    "# Output: dict_values(['Jack', 27])\n",
    "\n",
    "# Get all key-value pairs\n",
    "print(my_dict.items())\n",
    "# Output: dict_items([('name', 'Jack'), ('age', 27)])\n"
   ]
  },
  {
   "cell_type": "code",
   "execution_count": 40,
   "metadata": {},
   "outputs": [
    {
     "name": "stdout",
     "output_type": "stream",
     "text": [
      "True\n",
      "True\n",
      "True\n",
      "True\n"
     ]
    }
   ],
   "source": [
    "# Check if key exists\n",
    "print('name' in my_dict)\n",
    "# Output: True\n",
    "\n",
    "# Check if value exists\n",
    "print('Jack' in my_dict.values())\n",
    "# Output: True\n",
    "\n",
    "# Check if key does not exist\n",
    "print('address' not in my_dict)\n",
    "# Output: True\n",
    "\n",
    "# Check if value does not exist\n",
    "print('Downtown' not in my_dict.values())\n",
    "# Output: True"
   ]
  },
  {
   "cell_type": "code",
   "execution_count": 41,
   "metadata": {},
   "outputs": [
    {
     "name": "stdout",
     "output_type": "stream",
     "text": [
      "{1: 1, 2: 4, 3: 9, 4: 16, 5: 25}\n"
     ]
    }
   ],
   "source": [
    "# dictionary comprehension\n",
    "# Syntax: {key: value for (key, value) in iterable}\n",
    "\n",
    "# Creating a dictionary of squares using dictionary comprehension\n",
    "# stepping through the range from 1 to 6, excluding 6, get the value of x and square it\n",
    "squares_dict = {x: x**2 for x in range(1, 6)}\n",
    "print(squares_dict)  \n",
    "# Output: {1: 1, 2: 4, 3: 9, 4: 16, 5: 25}\n"
   ]
  },
  {
   "cell_type": "code",
   "execution_count": 42,
   "metadata": {},
   "outputs": [
    {
     "name": "stdout",
     "output_type": "stream",
     "text": [
      "1\n",
      "4\n",
      "9\n",
      "16\n",
      "25\n"
     ]
    }
   ],
   "source": [
    "# iterating through a dictionary\n",
    "for key in squares_dict:\n",
    "    # print the value of the key\n",
    "    print(squares_dict[key])\n"
   ]
  },
  {
   "cell_type": "markdown",
   "metadata": {},
   "source": [
    "## Tuples"
   ]
  },
  {
   "cell_type": "code",
   "execution_count": 43,
   "metadata": {},
   "outputs": [
    {
     "name": "stdout",
     "output_type": "stream",
     "text": [
      "1\n",
      "1\n",
      "2\n",
      "3\n"
     ]
    }
   ],
   "source": [
    "# tuples\n",
    "# Tuples are ordered collections of elements enclosed within parentheses ().\n",
    "# They are immutable and can contain elements of any data type.\n",
    "# Creating a tuple\n",
    "my_tuple = (1, 2, 3)\n",
    "\n",
    "# Accessing elements\n",
    "print(my_tuple[0])\n",
    "# Output: 1\n",
    "\n",
    "# Changing elements... you can't. Tuples are immutable\n",
    "# my_tuple[0] = 2 # commented to prevent error\n",
    "# Output: TypeError: 'tuple' object does not support item assignment\n",
    "\n",
    "# Tuple unpacking\n",
    "a, b, c = my_tuple\n",
    "print(a)  # Output: 1\n",
    "print(b)  # Output: 2\n",
    "print(c)  # Output: 3\n"
   ]
  },
  {
   "cell_type": "code",
   "execution_count": 44,
   "metadata": {},
   "outputs": [
    {
     "name": "stdout",
     "output_type": "stream",
     "text": [
      "(1, 2, 3, 4)\n",
      "(1, 2, 1, 2)\n",
      "(2, 3, 4)\n",
      "True\n"
     ]
    }
   ],
   "source": [
    "# tuple operations\n",
    "# Concatenation\n",
    "tuple1 = (1, 2)\n",
    "tuple2 = (3, 4)\n",
    "print(tuple1 + tuple2)\n",
    "# Output: (1, 2, 3, 4)\n",
    "\n",
    "# Repetition\n",
    "print(tuple1 * 2)\n",
    "# Output: (1, 2, 1, 2)\n",
    "\n",
    "# Slicing\n",
    "my_tuple = (1, 2, 3, 4, 5)\n",
    "print(my_tuple[1:4])\n",
    "# Output: (2, 3, 4)\n",
    "\n",
    "# Membership test\n",
    "print(1 in my_tuple)\n",
    "# Output: True"
   ]
  },
  {
   "cell_type": "code",
   "execution_count": 45,
   "metadata": {},
   "outputs": [
    {
     "name": "stdout",
     "output_type": "stream",
     "text": [
      "1\n",
      "2\n",
      "3\n",
      "4\n",
      "5\n"
     ]
    }
   ],
   "source": [
    "# Iterating through a tuple\n",
    "for x in my_tuple:\n",
    "    print(x)"
   ]
  },
  {
   "cell_type": "markdown",
   "metadata": {},
   "source": [
    "## Sets"
   ]
  },
  {
   "cell_type": "code",
   "execution_count": 46,
   "metadata": {},
   "outputs": [
    {
     "name": "stdout",
     "output_type": "stream",
     "text": [
      "{1, 2, 3, 4}\n",
      "{2, 3, 4}\n"
     ]
    }
   ],
   "source": [
    "# sets\n",
    "# Sets are unordered collections of unique elements.\n",
    "# They are mutable and can contain elements of any data type.\n",
    "# Creating a set\n",
    "my_set = {1, 2, 3}\n",
    "\n",
    "# Adding elements\n",
    "my_set.add(4)\n",
    "print(my_set)\n",
    "# Output: {1, 2, 3, 4}\n",
    "\n",
    "# Removing elements\n",
    "my_set.remove(1)\n",
    "print(my_set)\n",
    "# Output: {2, 3, 4}\n"
   ]
  },
  {
   "cell_type": "code",
   "execution_count": 47,
   "metadata": {},
   "outputs": [
    {
     "name": "stdout",
     "output_type": "stream",
     "text": [
      "{1, 2, 3, 4, 5, 6}\n",
      "{3, 4}\n",
      "{1, 2}\n",
      "{1, 2, 5, 6}\n"
     ]
    }
   ],
   "source": [
    "# Set operations\n",
    "# Union of two sets together\n",
    "a = {1, 2, 3, 4}\n",
    "b = {3, 4, 5, 6}\n",
    "c = a | b\n",
    "print(c)\n",
    "# Output: {1, 2, 3, 4, 5, 6}\n",
    "\n",
    "# Intersection\n",
    "# the common elements in both sets\n",
    "d = a & b\n",
    "print(d)\n",
    "# Output: {3, 4}\n",
    "\n",
    "# Difference\n",
    "# the elements that are in a but not in b\n",
    "e = a - b\n",
    "print(e)\n",
    "# Output: {1, 2}\n",
    "\n",
    "# Symmetric difference\n",
    "# the elements that are in a or b but not in both\n",
    "f = a ^ b\n",
    "print(f)\n",
    "# Output: {1, 2, 5, 6}\n"
   ]
  },
  {
   "cell_type": "code",
   "execution_count": 48,
   "metadata": {},
   "outputs": [
    {
     "name": "stdout",
     "output_type": "stream",
     "text": [
      "{0, 1, 4, 9, 16, 25}\n"
     ]
    }
   ],
   "source": [
    "# set comprehension\n",
    "# Syntax: {expression for item in iterable}\n",
    "\n",
    "# Creating a set of squares using set comprehension\n",
    "squares_set = {x**2 for x in range(6)}\n",
    "print(squares_set)\n",
    "# Output: {0, 1, 4, 9, 16, 25}\n"
   ]
  },
  {
   "cell_type": "code",
   "execution_count": 49,
   "metadata": {},
   "outputs": [
    {
     "name": "stdout",
     "output_type": "stream",
     "text": [
      "0\n",
      "1\n",
      "4\n",
      "9\n",
      "16\n",
      "25\n"
     ]
    }
   ],
   "source": [
    "# Iterating through a set\n",
    "for x in squares_set:\n",
    "    print(x)"
   ]
  },
  {
   "cell_type": "code",
   "execution_count": 50,
   "metadata": {},
   "outputs": [
    {
     "name": "stdout",
     "output_type": "stream",
     "text": [
      "frozenset({1, 2, 3})\n"
     ]
    }
   ],
   "source": [
    "# Frozen sets\n",
    "# Frozen sets are immutable sets that are created using the frozenset() constructor.\n",
    "# Creating a frozen set\n",
    "my_frozen_set = frozenset([1, 2, 3])\n",
    "print(my_frozen_set)\n",
    "\n",
    "# Adding elements\n",
    "# my_frozen_set.add(4) # commented to prevent error\n",
    "# Output: AttributeError: 'frozenset' object has no attribute 'add'\n",
    "\n",
    "# Removing elements\n",
    "# my_frozen_set.remove(1) # commented to prevent error\n",
    "# Output: AttributeError: 'frozenset' object has no attribute 'remove'\n"
   ]
  },
  {
   "cell_type": "code",
   "execution_count": 1,
   "metadata": {},
   "outputs": [
    {
     "name": "stdout",
     "output_type": "stream",
     "text": [
      "{1, 2, 3, 4}\n"
     ]
    }
   ],
   "source": [
    "# Sets will remove duplicates\n",
    "my_set = {1, 2, 3, 4, 3, 2}\n",
    "print(my_set)\n",
    "# Output: {1, 2, 3, 4}"
   ]
  }
 ],
 "metadata": {
  "kernelspec": {
   "display_name": "Python 3",
   "language": "python",
   "name": "python3"
  },
  "language_info": {
   "codemirror_mode": {
    "name": "ipython",
    "version": 3
   },
   "file_extension": ".py",
   "mimetype": "text/x-python",
   "name": "python",
   "nbconvert_exporter": "python",
   "pygments_lexer": "ipython3",
   "version": "3.12.3"
  }
 },
 "nbformat": 4,
 "nbformat_minor": 2
}
