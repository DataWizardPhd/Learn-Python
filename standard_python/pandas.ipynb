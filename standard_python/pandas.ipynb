{
 "cells": [
  {
   "cell_type": "markdown",
   "metadata": {},
   "source": [
    "# pandas"
   ]
  },
  {
   "cell_type": "code",
   "execution_count": 5,
   "metadata": {},
   "outputs": [
    {
     "name": "stdout",
     "output_type": "stream",
     "text": [
      "Series from list:\n",
      " 0    10\n",
      "1    20\n",
      "2    30\n",
      "3    40\n",
      "dtype: int64\n"
     ]
    }
   ],
   "source": [
    "import pandas as pd\n",
    "\n",
    "# From a list\n",
    "data_list = [10, 20, 30, 40]\n",
    "series_from_list = pd.Series(data_list)\n",
    "print(\"Series from list:\\n\", series_from_list)"
   ]
  },
  {
   "cell_type": "code",
   "execution_count": 2,
   "metadata": {},
   "outputs": [
    {
     "name": "stdout",
     "output_type": "stream",
     "text": [
      "\n",
      "Series from dictionary:\n",
      " a    1\n",
      "b    2\n",
      "c    3\n",
      "dtype: int64\n"
     ]
    }
   ],
   "source": [
    "# From a dictionary\n",
    "data_dict = {'a': 1, 'b': 2, 'c': 3}\n",
    "series_from_dict = pd.Series(data_dict)\n",
    "print(\"\\nSeries from dictionary:\\n\", series_from_dict)"
   ]
  },
  {
   "cell_type": "code",
   "execution_count": 6,
   "metadata": {},
   "outputs": [
    {
     "name": "stdout",
     "output_type": "stream",
     "text": [
      "\n",
      "Series with custom index:\n",
      " x    100\n",
      "y    200\n",
      "z    300\n",
      "dtype: int64\n"
     ]
    }
   ],
   "source": [
    "# Specifying index explicitly\n",
    "data_values = [100, 200, 300]\n",
    "data_index = ['x', 'y', 'z']\n",
    "series_with_index = pd.Series(data_values, index=data_index)\n",
    "print(\"\\nSeries with custom index:\\n\", series_with_index)"
   ]
  },
  {
   "cell_type": "code",
   "execution_count": 7,
   "metadata": {},
   "outputs": [],
   "source": [
    "# Create a sample series\n",
    "sample_series = pd.Series([5, 10, 15, 20], index=['a', 'b', 'c', 'd'])"
   ]
  },
  {
   "cell_type": "code",
   "execution_count": 8,
   "metadata": {},
   "outputs": [
    {
     "name": "stdout",
     "output_type": "stream",
     "text": [
      "Values: [ 5 10 15 20]\n",
      "Index: Index(['a', 'b', 'c', 'd'], dtype='object')\n",
      "Data type: int64\n"
     ]
    }
   ],
   "source": [
    "# Attributes\n",
    "print(\"Values:\", sample_series.values)        # Array of values\n",
    "print(\"Index:\", sample_series.index)          # Index labels\n",
    "print(\"Data type:\", sample_series.dtype)      # Data type of elements"
   ]
  },
  {
   "cell_type": "code",
   "execution_count": 9,
   "metadata": {},
   "outputs": [
    {
     "name": "stdout",
     "output_type": "stream",
     "text": [
      "\n",
      "Sum: 50\n",
      "Mean: 12.5\n",
      "Max: 20\n",
      "Min: 5\n"
     ]
    }
   ],
   "source": [
    "# Basic operations\n",
    "print(\"\\nSum:\", sample_series.sum())          # Sum of all elements\n",
    "print(\"Mean:\", sample_series.mean())          # Mean of all elements\n",
    "print(\"Max:\", sample_series.max())            # Max value in the series\n",
    "print(\"Min:\", sample_series.min())            # Min value in the series "
   ]
  },
  {
   "cell_type": "code",
   "execution_count": 10,
   "metadata": {},
   "outputs": [
    {
     "name": "stdout",
     "output_type": "stream",
     "text": [
      "\n",
      "Series * 2:\n",
      " a    10\n",
      "b    20\n",
      "c    30\n",
      "d    40\n",
      "dtype: int64\n",
      "Series + 10:\n",
      " a    15\n",
      "b    20\n",
      "c    25\n",
      "d    30\n",
      "dtype: int64\n"
     ]
    }
   ],
   "source": [
    "# Vectorized operations\n",
    "print(\"\\nSeries * 2:\\n\", sample_series * 2)   # Multiply each element by 2\n",
    "print(\"Series + 10:\\n\", sample_series + 10)   # Add 10 to each element"
   ]
  },
  {
   "cell_type": "code",
   "execution_count": 11,
   "metadata": {},
   "outputs": [],
   "source": [
    "# Sample series for indexing and slicing\n",
    "indexing_series = pd.Series([100, 200, 300, 400, 500], index=['a', 'b', 'c', 'd', 'e'])"
   ]
  },
  {
   "cell_type": "code",
   "execution_count": 12,
   "metadata": {},
   "outputs": [
    {
     "name": "stdout",
     "output_type": "stream",
     "text": [
      "Element at index 'c': 300\n"
     ]
    }
   ],
   "source": [
    "# Accessing a single element by index\n",
    "print(\"Element at index 'c':\", indexing_series['c'])"
   ]
  },
  {
   "cell_type": "code",
   "execution_count": 13,
   "metadata": {},
   "outputs": [
    {
     "name": "stdout",
     "output_type": "stream",
     "text": [
      "\n",
      "Elements at indexes 'a' and 'e':\n",
      " a    100\n",
      "e    500\n",
      "dtype: int64\n"
     ]
    }
   ],
   "source": [
    "# Accessing multiple elements by index\n",
    "print(\"\\nElements at indexes 'a' and 'e':\\n\", indexing_series[['a', 'e']])  "
   ]
  },
  {
   "cell_type": "code",
   "execution_count": null,
   "metadata": {},
   "outputs": [
    {
     "name": "stdout",
     "output_type": "stream",
     "text": [
      "\n",
      "Element at position 2 (iloc): 300\n"
     ]
    }
   ],
   "source": [
    "# Using integer indexing (iloc). Index starts from 0\n",
    "print(\"\\nElement at position 2 (iloc):\", indexing_series.iloc[2])"
   ]
  },
  {
   "cell_type": "code",
   "execution_count": 15,
   "metadata": {},
   "outputs": [
    {
     "name": "stdout",
     "output_type": "stream",
     "text": [
      "\n",
      "Slicing from index 'b' to 'd':\n",
      " b    200\n",
      "c    300\n",
      "d    400\n",
      "dtype: int64\n",
      "\n",
      "Slicing from position 1 to 3 (iloc):\n",
      " b    200\n",
      "c    300\n",
      "d    400\n",
      "dtype: int64\n"
     ]
    }
   ],
   "source": [
    "# Slicing\n",
    "print(\"\\nSlicing from index 'b' to 'd':\\n\", indexing_series['b':'d'])  # Includes 'd'\n",
    "print(\"\\nSlicing from position 1 to 3 (iloc):\\n\", indexing_series.iloc[1:4])  # Does not include position 4"
   ]
  },
  {
   "cell_type": "code",
   "execution_count": 16,
   "metadata": {},
   "outputs": [
    {
     "name": "stdout",
     "output_type": "stream",
     "text": [
      "\n",
      "Elements greater than 200:\n",
      " c    300\n",
      "d    400\n",
      "e    500\n",
      "dtype: int64\n"
     ]
    }
   ],
   "source": [
    "# Conditional indexing\n",
    "print(\"\\nElements greater than 200:\\n\", indexing_series[indexing_series > 200])"
   ]
  }
 ],
 "metadata": {
  "kernelspec": {
   "display_name": "Python 3",
   "language": "python",
   "name": "python3"
  },
  "language_info": {
   "codemirror_mode": {
    "name": "ipython",
    "version": 3
   },
   "file_extension": ".py",
   "mimetype": "text/x-python",
   "name": "python",
   "nbconvert_exporter": "python",
   "pygments_lexer": "ipython3",
   "version": "3.12.6"
  }
 },
 "nbformat": 4,
 "nbformat_minor": 2
}
