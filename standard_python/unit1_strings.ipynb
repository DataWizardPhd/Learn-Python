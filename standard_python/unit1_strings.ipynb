{
 "cells": [
  {
   "cell_type": "markdown",
   "metadata": {},
   "source": [
    "# Working With Strings"
   ]
  },
  {
   "cell_type": "code",
   "execution_count": 76,
   "metadata": {},
   "outputs": [],
   "source": [
    "# comma usage in strings\n",
    "# Python accepts both \" and ' \n",
    "str1 = \"Hello\"\n",
    "str2 = 'World'"
   ]
  },
  {
   "cell_type": "code",
   "execution_count": 77,
   "metadata": {},
   "outputs": [
    {
     "name": "stdout",
     "output_type": "stream",
     "text": [
      "He said, 'Hello there!'\n",
      "He said, \"Hello there!\"\n",
      "He said, \"What's there?\"\n"
     ]
    }
   ],
   "source": [
    "# single quotes are used to create strings containing double quotes\n",
    "my_string = \"He said, 'Hello there!'\"\n",
    "print(my_string)\n",
    "\n",
    "# double quotes are used to create strings containing single quotes\n",
    "my_string = 'He said, \"Hello there!\"'\n",
    "print(my_string)\n",
    "\n",
    "# triple quotes are used to create strings containing single and double quotes\n",
    "my_string = '''He said, \"What's there?\"'''\n",
    "print(my_string)"
   ]
  },
  {
   "cell_type": "code",
   "execution_count": 78,
   "metadata": {},
   "outputs": [
    {
     "name": "stdout",
     "output_type": "stream",
     "text": [
      "Hello World\n",
      "('Hello', 'World')\n"
     ]
    }
   ],
   "source": [
    "# concatenation\n",
    "my_string = str1 + \" \" + str2\n",
    "print(my_string)\n",
    "# Output: Hello World\n",
    "\n",
    "# concatenation using comma\n",
    "my_string = str1, str2\n",
    "print(my_string)\n",
    "# this returns a tuple, not a string\n",
    "# Output: ('Hello', 'World')\n"
   ]
  },
  {
   "cell_type": "code",
   "execution_count": 79,
   "metadata": {},
   "outputs": [
    {
     "name": "stdout",
     "output_type": "stream",
     "text": [
      "HELLO WORLD\n",
      "hello world\n"
     ]
    }
   ],
   "source": [
    "# converting to string to uppercase and lowercase\n",
    "my_string = \"Hello World\"\n",
    "print(my_string.upper())\n",
    "# Output: HELLO WORLD\n",
    "\n",
    "print(my_string.lower())\n",
    "# Output: hello world"
   ]
  },
  {
   "cell_type": "code",
   "execution_count": 80,
   "metadata": {},
   "outputs": [
    {
     "name": "stdout",
     "output_type": "stream",
     "text": [
      "Hello, world!\n",
      "hello, world!\n",
      "hELLO, wORLD!\n"
     ]
    }
   ],
   "source": [
    "# capitalize() method returns a copy of the string with the first character capitalized and the rest lowercased\n",
    "my_string = \"hello, world!\"\n",
    "print(my_string.capitalize())\n",
    "# Output: Hello, world!\n",
    "\n",
    "# casefold() method returns a lowercase string\n",
    "my_string = \"HELLO, WORLD!\"\n",
    "print(my_string.casefold())\n",
    "# Output: hello, world!\n",
    "\n",
    "# swapcase() method returns a new string with uppercase characters converted to lowercase and vice versa\n",
    "my_string = \"Hello, World!\"\n",
    "print(my_string.swapcase())\n",
    "# Output: hELLO, wORLD!\n"
   ]
  },
  {
   "cell_type": "code",
   "execution_count": 81,
   "metadata": {},
   "outputs": [
    {
     "name": "stdout",
     "output_type": "stream",
     "text": [
      "11\n",
      "3\n"
     ]
    }
   ],
   "source": [
    "# find out how long your string is, output is integer\n",
    "my_string = \"Hello World\"\n",
    "print(len(my_string))\n",
    "# Output: 11\n",
    "\n",
    "# count() method returns the number of occurrences of a substring in the given string\n",
    "my_string = \"How are you doing?\"\n",
    "print(my_string.count('o'))\n",
    "# Output: 3"
   ]
  },
  {
   "cell_type": "code",
   "execution_count": 82,
   "metadata": {},
   "outputs": [
    {
     "name": "stdout",
     "output_type": "stream",
     "text": [
      "True\n",
      "True\n"
     ]
    }
   ],
   "source": [
    "# endswith() method returns True if a string ends with the specified suffix. Otherwise, it returns False.\n",
    "my_string = \"How are you doing?\"\n",
    "print(my_string.endswith(\"?\"))\n",
    "# Output: True\n",
    "\n",
    "# startswith() method returns True if a string starts with the specified prefix. Otherwise, it returns False.\n",
    "my_string = \"How are you doing?\"\n",
    "print(my_string.startswith(\"How\"))\n",
    "# Output: True"
   ]
  },
  {
   "cell_type": "code",
   "execution_count": 83,
   "metadata": {},
   "outputs": [
    {
     "name": "stdout",
     "output_type": "stream",
     "text": [
      "['How', 'are', 'you', 'doing?']\n",
      "['dog', 'cat', 'rat', 'tiger']\n"
     ]
    }
   ],
   "source": [
    "# split() method splits the string at the specified separator and returns a list of strings\n",
    "my_string = \"How are you doing?\"\n",
    "print(my_string.split(\" \"))\n",
    "# Output: ['How', 'are', 'you', 'doing?']\n",
    "\n",
    "my_string = \"dog,cat,rat,tiger\"\n",
    "print(my_string.split(\",\"))\n",
    "# Output: ['dog', 'cat', 'rat', 'tiger']\n"
   ]
  },
  {
   "cell_type": "code",
   "execution_count": 84,
   "metadata": {},
   "outputs": [
    {
     "name": "stdout",
     "output_type": "stream",
     "text": [
      "********Test********\n"
     ]
    }
   ],
   "source": [
    "# center() method returns a string which is padded with the specified character\n",
    "my_string = \"Test\"\n",
    "print(my_string.center(20, '*'))\n",
    "# Output: *******Test*******"
   ]
  },
  {
   "cell_type": "code",
   "execution_count": 85,
   "metadata": {},
   "outputs": [
    {
     "name": "stdout",
     "output_type": "stream",
     "text": [
      "Test****************\n",
      "****************Test\n"
     ]
    }
   ],
   "source": [
    "# ljust() and rjust() methods\n",
    "my_string = \"Test\"\n",
    "\n",
    "# ljust() method returns a left-justified string of a given minimum width\n",
    "print(my_string.ljust(20, '*'))\n",
    "# Output: Test*************\n",
    "\n",
    "# rjust() method returns a right-justified string of a given minimum width\n",
    "print(my_string.rjust(20, '*'))\n",
    "# Output: ******Test********\n"
   ]
  },
  {
   "cell_type": "code",
   "execution_count": 86,
   "metadata": {},
   "outputs": [
    {
     "name": "stdout",
     "output_type": "stream",
     "text": [
      "8\n",
      "Test\n",
      "4\n"
     ]
    }
   ],
   "source": [
    "# strip() method\n",
    "my_string = \" Test   \"\n",
    "\n",
    "# print length of my_string\n",
    "print(len(my_string))\n",
    "# Output: 7\n",
    "\n",
    "# strip() method returns a new string after removing any leading and trailing whitespaces\n",
    "print(my_string.strip())\n",
    "# Output: Test\n",
    "\n",
    "# print length of my_string\n",
    "print(len(my_string.strip()))\n",
    "# Output: 4\n"
   ]
  },
  {
   "cell_type": "code",
   "execution_count": 87,
   "metadata": {},
   "outputs": [
    {
     "name": "stdout",
     "output_type": "stream",
     "text": [
      "How are you feeling?\n"
     ]
    }
   ],
   "source": [
    "# replace() method\n",
    "my_string = \"How are you doing?\"\n",
    "print(my_string.replace(\"doing\", \"feeling\"))\n",
    "# Output: How are you feeling?"
   ]
  },
  {
   "cell_type": "code",
   "execution_count": 88,
   "metadata": {},
   "outputs": [
    {
     "name": "stdout",
     "output_type": "stream",
     "text": [
      "H o w   a r e   y o u   d o i n g ?\n",
      "1-2-3-4-5-6-7-8-9\n"
     ]
    }
   ],
   "source": [
    "# join() method\n",
    "# join() method returns a string concatenated with the elements of an iterable, a string is the iterable in this case\n",
    "my_string = \"How are you doing?\"\n",
    "print(\" \".join(my_string))\n",
    "# Output: H o w   a r e   y o u   d o i n g ?\n",
    "\n",
    "my_string = \"123456789\"\n",
    "print(\"-\".join(my_string))\n",
    "# Output: 1-2-3-4-5-6-7-8-9"
   ]
  },
  {
   "cell_type": "code",
   "execution_count": 89,
   "metadata": {},
   "outputs": [
    {
     "name": "stdout",
     "output_type": "stream",
     "text": [
      "['Hello', 'How are you?']\n"
     ]
    }
   ],
   "source": [
    "# splitlines() method\n",
    "# splitlines() method returns a list of lines in the string\n",
    "my_string = \"Hello\\nHow are you?\"\n",
    "print(my_string.splitlines())\n",
    "# Output: ['Hello', 'How are you?']\n"
   ]
  },
  {
   "cell_type": "code",
   "execution_count": 90,
   "metadata": {},
   "outputs": [
    {
     "name": "stdout",
     "output_type": "stream",
     "text": [
      "('I could eat ', 'bananas', ' all day')\n"
     ]
    }
   ],
   "source": [
    "# partition() method\n",
    "# partition() method splits the string at the first occurrence of the argument string and returns \n",
    "# a tuple containing the part the before separator, argument string and the part after the separator\n",
    "my_string = \"I could eat bananas all day\"\n",
    "print(my_string.partition(\"bananas\"))\n",
    "# Output: ('I could eat ', 'bananas', ' all day')"
   ]
  },
  {
   "cell_type": "code",
   "execution_count": 91,
   "metadata": {},
   "outputs": [
    {
     "name": "stdout",
     "output_type": "stream",
     "text": [
      "H       e       l       l       o\n"
     ]
    }
   ],
   "source": [
    "# expandtabs() method\n",
    "# expandtabs() method returns a copy of the string in which the tab characters are expanded using spaces\n",
    "my_string = \"H\\te\\tl\\tl\\to\"\n",
    "print(my_string.expandtabs())\n",
    "# Output: H       e       l       l       o"
   ]
  },
  {
   "cell_type": "code",
   "execution_count": 92,
   "metadata": {},
   "outputs": [
    {
     "name": "stdout",
     "output_type": "stream",
     "text": [
      "b'Hello'\n"
     ]
    }
   ],
   "source": [
    "# encode() method\n",
    "# encode() method returns the encoded version of the string\n",
    "my_string = \"Hello\"\n",
    "print(my_string.encode())\n",
    "# Output: b'Hello'"
   ]
  },
  {
   "cell_type": "code",
   "execution_count": 93,
   "metadata": {},
   "outputs": [
    {
     "name": "stdout",
     "output_type": "stream",
     "text": [
      "8\n"
     ]
    }
   ],
   "source": [
    "# find() method\n",
    "# find() method returns the index of the first occurrence of the substring (if found). If not found, it returns -1\n",
    "my_string = \"How are you doing?\"\n",
    "print(my_string.find(\"you\"))\n",
    "# Output: 8"
   ]
  },
  {
   "cell_type": "code",
   "execution_count": 94,
   "metadata": {},
   "outputs": [
    {
     "name": "stdout",
     "output_type": "stream",
     "text": [
      "8\n"
     ]
    }
   ],
   "source": [
    "# index() method\n",
    "# index() method returns the index of the first occurrence of the substring (if found). If not found, it raises an exception\n",
    "my_string = \"How are you doing?\"\n",
    "print(my_string.index(\"you\"))\n",
    "# Output: 8"
   ]
  },
  {
   "cell_type": "code",
   "execution_count": 95,
   "metadata": {},
   "outputs": [
    {
     "name": "stdout",
     "output_type": "stream",
     "text": [
      "4\n",
      "4\n"
     ]
    }
   ],
   "source": [
    "# rfind() method\n",
    "# rfind() method returns the index of the last occurrence of the substring (if found). If not found, it returns -1\n",
    "my_string = \"How are you doing?\"\n",
    "print(my_string.rfind(\"are\"))\n",
    "# Output: 4\n",
    "\n",
    "# rindex() method\n",
    "# rindex() method returns the index of the last occurrence of the substring (if found). If not found, it raises an exception\n",
    "my_string = \"How are you doing?\"\n",
    "print(my_string.rindex(\"are\"))\n",
    "# Output: 4"
   ]
  },
  {
   "cell_type": "code",
   "execution_count": 96,
   "metadata": {},
   "outputs": [
    {
     "name": "stdout",
     "output_type": "stream",
     "text": [
      "True\n",
      "True\n"
     ]
    }
   ],
   "source": [
    "# isalnum() method\n",
    "# isalnum() method returns True if all characters in the string are alphanumeric (either alphabets or numbers). If not, it returns False\n",
    "my_string = \"abc123\"\n",
    "print(my_string.isalnum())\n",
    "# Output: True\n",
    "\n",
    "# isalpha() method\n",
    "# isalpha() method returns True if all characters in the string are alphabets. If not, it returns False\n",
    "my_string = \"abc\"\n",
    "print(my_string.isalpha())\n",
    "# Output: True\n"
   ]
  },
  {
   "cell_type": "code",
   "execution_count": 97,
   "metadata": {},
   "outputs": [
    {
     "name": "stdout",
     "output_type": "stream",
     "text": [
      "True\n",
      "True\n",
      "True\n"
     ]
    }
   ],
   "source": [
    "# isdigit() method\n",
    "# isdigit() method returns True if all characters in the string are digits. If not, it returns False\n",
    "my_string = \"123\"\n",
    "print(my_string.isdigit())\n",
    "# Output: True\n",
    "\n",
    "# isnumeric() method\n",
    "# isnumeric() method returns True if all characters in the string are numeric. If not, it returns False\n",
    "my_string = \"123\"\n",
    "print(my_string.isnumeric())\n",
    "# Output: True\n",
    "\n",
    "# isdecimal() method\n",
    "# isdecimal() method returns True if all characters in the string are decimals. If not, it returns False\n",
    "my_string = \"123\"\n",
    "print(my_string.isdecimal())\n",
    "# Output: True\n"
   ]
  },
  {
   "cell_type": "code",
   "execution_count": 98,
   "metadata": {},
   "outputs": [
    {
     "name": "stdout",
     "output_type": "stream",
     "text": [
      "False\n",
      "False\n",
      "True\n"
     ]
    }
   ],
   "source": [
    "# isidentifier() method\n",
    "# isidentifier() method returns True if the string is a valid identifier in Python. If not, it returns False\n",
    "'''A valid Python identifier is a sequence of characters consisting of letters, digits, and underscores,\n",
    " but it must start with a letter or an underscore (not a digit), and it cannot be a reserved word or keyword in Python.'''\n",
    "\n",
    "# False example because it starts with a number\n",
    "my_string = \"123abc\"\n",
    "print(my_string.isidentifier())\n",
    "# Output: False\n",
    "\n",
    "# False example because of the dash\n",
    "my_string = \"abc-123\"\n",
    "print(my_string.isidentifier())\n",
    "# Output: False\n",
    "\n",
    "# True example\n",
    "my_string = \"abc\"\n",
    "print(my_string.isidentifier())\n",
    "# Output: True"
   ]
  },
  {
   "cell_type": "code",
   "execution_count": 99,
   "metadata": {},
   "outputs": [
    {
     "name": "stdout",
     "output_type": "stream",
     "text": [
      "True\n",
      "False\n"
     ]
    }
   ],
   "source": [
    "# is printable() method\n",
    "# isprintable() method returns True if all characters in the string are printable or the string is empty. If not, it returns False\n",
    "my_string = \"Hello!\"\n",
    "print(my_string.isprintable())\n",
    "# Output: True\n",
    "\n",
    "# false example because of the newline character\n",
    "my_string = \"Hello!\\n\"\n",
    "print(my_string.isprintable())\n",
    "# Output: False"
   ]
  },
  {
   "cell_type": "code",
   "execution_count": 100,
   "metadata": {},
   "outputs": [
    {
     "name": "stdout",
     "output_type": "stream",
     "text": [
      "True\n",
      "False\n"
     ]
    }
   ],
   "source": [
    "# isspace() method\n",
    "# isspace() method returns True if all characters in the string are whitespaces. If not, it returns False\n",
    "my_string = \"   \"\n",
    "print(my_string.isspace())\n",
    "# Output: True\n",
    "\n",
    "my_string = \" x  \"\n",
    "print(my_string.isspace())\n",
    "# Output: False\n"
   ]
  },
  {
   "cell_type": "code",
   "execution_count": 101,
   "metadata": {},
   "outputs": [
    {
     "name": "stdout",
     "output_type": "stream",
     "text": [
      "00050\n"
     ]
    }
   ],
   "source": [
    "# zfill() method\n",
    "# zfill() method returns a copy of the string with '0' characters padded to the left\n",
    "my_string = \"50\"\n",
    "print(my_string.zfill(5))\n",
    "# Output: 00050"
   ]
  },
  {
   "cell_type": "code",
   "execution_count": 102,
   "metadata": {},
   "outputs": [
    {
     "name": "stdout",
     "output_type": "stream",
     "text": [
      "My name is Alice and I'm 30 years old.\n"
     ]
    }
   ],
   "source": [
    "# String formatting using f-strings\n",
    "# f-strings are used to embed values inside string literals\n",
    "name = \"Alice\"\n",
    "age = 30\n",
    "formatted_string = f\"My name is {name} and I'm {age} years old.\"\n",
    "print(formatted_string)  \n",
    "# Output: My name is Alice and I'm 30 years old."
   ]
  },
  {
   "cell_type": "code",
   "execution_count": 103,
   "metadata": {},
   "outputs": [
    {
     "name": "stdout",
     "output_type": "stream",
     "text": [
      "My name is Alice and I'm 30 years old.\n"
     ]
    }
   ],
   "source": [
    "# String formatting using format() method\n",
    "name = \"Alice\"\n",
    "age = 30\n",
    "formatted_string = \"My name is {} and I'm {} years old.\".format(name, age)\n",
    "print(formatted_string)\n",
    "# Output: My name is Alice and I'm 30 years old."
   ]
  }
 ],
 "metadata": {
  "kernelspec": {
   "display_name": "Python 3",
   "language": "python",
   "name": "python3"
  },
  "language_info": {
   "codemirror_mode": {
    "name": "ipython",
    "version": 3
   },
   "file_extension": ".py",
   "mimetype": "text/x-python",
   "name": "python",
   "nbconvert_exporter": "python",
   "pygments_lexer": "ipython3",
   "version": "3.12.6"
  }
 },
 "nbformat": 4,
 "nbformat_minor": 2
}
